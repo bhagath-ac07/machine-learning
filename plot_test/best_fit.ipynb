{
  "nbformat": 4,
  "nbformat_minor": 0,
  "metadata": {
    "colab": {
      "name": "Untitled3.ipynb",
      "provenance": [],
      "authorship_tag": "ABX9TyO210O+uciKCC8zn6SK9Vtj",
      "include_colab_link": true
    },
    "kernelspec": {
      "name": "python3",
      "display_name": "Python 3"
    }
  },
  "cells": [
    {
      "cell_type": "markdown",
      "metadata": {
        "id": "view-in-github",
        "colab_type": "text"
      },
      "source": [
        "<a href=\"https://colab.research.google.com/github/bhagath-ac07/machine-learning/blob/main/plot_test/best_fit.ipynb\" target=\"_parent\"><img src=\"https://colab.research.google.com/assets/colab-badge.svg\" alt=\"Open In Colab\"/></a>"
      ]
    },
    {
      "cell_type": "code",
      "metadata": {
        "colab": {
          "base_uri": "https://localhost:8080/",
          "height": 744
        },
        "id": "Iq5RNfFJzZIO",
        "outputId": "8114b915-04f8-4a46-b695-c4b76bff8891"
      },
      "source": [
        "import numpy as np\n",
        "import matplotlib.pyplot as plt\n",
        "\n",
        "points = np.array([(1, 1), (2, 4), (3, 1), (9, 3)])\n",
        "# get x and y vectors\n",
        "x = points[:,0]\n",
        "y = points[:,1]\n",
        "\n",
        "# calculate polynomial\n",
        "z = np.polyfit(x, y, 3)\n",
        "f = np.poly1d(z)\n",
        "\n",
        "print(z)\n",
        "print('\\n\\n')\n",
        "print(f)\n",
        "print('\\n\\n')\n",
        "\n",
        "# calculate new x's and y's\n",
        "x_new = np.linspace(x[0], x[-1], 50)\n",
        "y_new = f(x_new)\n",
        "\n",
        "print(x_new)\n",
        "print(y_new)\n",
        "plt.plot(x,y,'o', x_new, y_new)\n",
        "plt.xlim([x[0]-1, x[-1] + 1 ])\n",
        "plt.show()\n",
        "\n",
        "from scipy.optimize import curve_fit\n",
        "\n",
        "x = np.array([1, 2, 3, 9])\n",
        "y = np.array([1, 4, 1, 3])\n",
        "\n",
        "def fit_func(x, a, b):\n",
        "    return a*x + b\n",
        "\n",
        "params = curve_fit(fit_func, x, y)\n",
        "\n",
        "[a, b] = params[0]"
      ],
      "execution_count": 5,
      "outputs": [
        {
          "output_type": "stream",
          "text": [
            "[  0.43452381  -5.60714286  16.7797619  -10.60714286]\n",
            "\n",
            "\n",
            "\n",
            "        3         2\n",
            "0.4345 x - 5.607 x + 16.78 x - 10.61\n",
            "\n",
            "\n",
            "\n",
            "[1.         1.16326531 1.32653061 1.48979592 1.65306122 1.81632653\n",
            " 1.97959184 2.14285714 2.30612245 2.46938776 2.63265306 2.79591837\n",
            " 2.95918367 3.12244898 3.28571429 3.44897959 3.6122449  3.7755102\n",
            " 3.93877551 4.10204082 4.26530612 4.42857143 4.59183673 4.75510204\n",
            " 4.91836735 5.08163265 5.24489796 5.40816327 5.57142857 5.73469388\n",
            " 5.89795918 6.06122449 6.2244898  6.3877551  6.55102041 6.71428571\n",
            " 6.87755102 7.04081633 7.20408163 7.36734694 7.53061224 7.69387755\n",
            " 7.85714286 8.02040816 8.18367347 8.34693878 8.51020408 8.67346939\n",
            " 8.83673469 9.        ]\n",
            "[  1.           2.00865407   2.79922603   3.38306197   3.77150798\n",
            "   3.97591018   4.00761466   3.87796751   3.59831484   3.18000274\n",
            "   2.63437732   1.97278466   1.20657088   0.34708206  -0.59433569\n",
            "  -1.60633628  -2.67757361  -3.79670157  -4.95237407  -6.13324502\n",
            "  -7.3279683   -8.52519783  -9.71358751 -10.88179124 -12.01846291\n",
            " -13.11225643 -14.15182571 -15.12582464 -16.02290712 -16.83172706\n",
            " -17.54093836 -18.13919492 -18.61515064 -18.95745942 -19.15477516\n",
            " -19.19575177 -19.06904315 -18.76330319 -18.26718581 -17.56934489\n",
            " -16.65843435 -15.52310808 -14.15201999 -12.53382398 -10.65717394\n",
            "  -8.51072379  -6.08312741  -3.36303872  -0.33911162   3.        ]\n"
          ],
          "name": "stdout"
        },
        {
          "output_type": "display_data",
          "data": {
            "image/png": "[encoded data removed]",
            "text/plain": [
              "<Figure size 432x288 with 1 Axes>"
            ]
          },
          "metadata": {
            "tags": [],
            "needs_background": "light"
          }
        }
      ]
    }
  ]
}