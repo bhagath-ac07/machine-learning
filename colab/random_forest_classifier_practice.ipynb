{
  "nbformat": 4,
  "nbformat_minor": 0,
  "metadata": {
    "colab": {
      "name": "RandomForestClassifier_practice.ipynb",
      "provenance": [],
      "authorship_tag": "ABX9TyNvWYSsBya4AU3HRiOO+dcb",
      "include_colab_link": true
    },
    "kernelspec": {
      "name": "python3",
      "display_name": "Python 3"
    }
  },
  "cells": [
    {
      "cell_type": "markdown",
      "metadata": {
        "id": "view-in-github",
        "colab_type": "text"
      },
      "source": [
        "<a href=\"https://colab.research.google.com/github/bhagath-ac07/machine-learning/blob/main/colab/random_forest_classifier_practice.ipynb\" target=\"_parent\"><img src=\"https://colab.research.google.com/assets/colab-badge.svg\" alt=\"Open In Colab\"/></a>"
      ]
    },
    {
      "cell_type": "code",
      "metadata": {
        "colab": {
          "base_uri": "https://localhost:8080/",
          "height": 398
        },
        "id": "ORpuRCNroRu3",
        "outputId": "e16dd392-730a-4614-80b3-fb4be034aa67"
      },
      "source": [
        "import numpy as np\n",
        "import matplotlib.pyplot as plt\n",
        "import pandas as pd\n",
        "from google.colab import drive\n",
        "drive.mount('/content/drive')\n",
        "\n",
        "data = pd.read_csv('/content/drive/MyDrive/mushrooms.csv')\n",
        "for col in data.columns :\n",
        "   data[col] = pd.get_dummies(data[col])\n",
        "X = data.iloc[:,data.columns !='class']\n",
        "y = data.iloc[:,data.columns == 'class']\n",
        "\n",
        "import seaborn as sns\n",
        "sns.countplot(x='class',data=data)\n",
        "\n",
        "from sklearn.model_selection import train_test_split\n",
        "X_train,X_test,y_train,y_test = train_test_split(X,y,test_size=0.3, random_state=0)\n",
        "from sklearn.ensemble import RandomForestClassifier\n",
        "rclf = RandomForestClassifier()\n",
        "\n",
        "rclf.fit(X_train,y_train)\n",
        "\n",
        "from sklearn.metrics import accuracy_score,recall_score,confusion_matrix\n",
        "y_pred = rclf.predict(X_test)\n",
        "print(len(X_test))\n",
        "print(accuracy_score(y_test,y_pred))\n",
        "print(recall_score(y_test,y_pred))\n",
        "print(confusion_matrix(y_test,y_pred))"
      ],
      "execution_count": 44,
      "outputs": [
        {
          "output_type": "stream",
          "text": [
            "Drive already mounted at /content/drive; to attempt to forcibly remount, call drive.mount(\"/content/drive\", force_remount=True).\n"
          ],
          "name": "stdout"
        },
        {
          "output_type": "stream",
          "text": [
            "/usr/local/lib/python3.6/dist-packages/ipykernel_launcher.py:21: DataConversionWarning: A column-vector y was passed when a 1d array was expected. Please change the shape of y to (n_samples,), for example using ravel().\n"
          ],
          "name": "stderr"
        },
        {
          "output_type": "stream",
          "text": [
            "2438\n",
            "0.9917965545529123\n",
            "0.9960691823899371\n",
            "[[1151   15]\n",
            " [   5 1267]]\n"
          ],
          "name": "stdout"
        },
        {
          "output_type": "display_data",
          "data": {
            "image/png": "[encoded data removed]",
            "text/plain": [
              "<Figure size 432x288 with 1 Axes>"
            ]
          },
          "metadata": {
            "tags": [],
            "needs_background": "light"
          }
        }
      ]
    }
  ]
}